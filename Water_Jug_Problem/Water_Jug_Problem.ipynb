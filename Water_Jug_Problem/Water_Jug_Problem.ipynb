{
  "nbformat": 4,
  "nbformat_minor": 0,
  "metadata": {
    "colab": {
      "name": "Water Jug Problem.ipynb",
      "provenance": [],
      "authorship_tag": "ABX9TyMdqMGbCqwaoOAkr3gBYPQY",
      "include_colab_link": true
    },
    "kernelspec": {
      "name": "python3",
      "display_name": "Python 3"
    },
    "language_info": {
      "name": "python"
    }
  },
  "cells": [
    {
      "cell_type": "markdown",
      "metadata": {
        "id": "view-in-github",
        "colab_type": "text"
      },
      "source": [
        "<a href=\"https://colab.research.google.com/github/shivam123-dev/AI/blob/main/Water_Jug_Problem/Water_Jug_Problem.ipynb\" target=\"_parent\"><img src=\"https://colab.research.google.com/assets/colab-badge.svg\" alt=\"Open In Colab\"/></a>"
      ]
    },
    {
      "cell_type": "code",
      "execution_count": null,
      "metadata": {
        "id": "yTNijV1H4pb5"
      },
      "outputs": [],
      "source": [
        "def pour(jug1, jug2):\n",
        "    max1, max2, fill = 3, 4, 2  #Change maximum capacity and final capacity\n",
        "    print(\"%d\\t%d\" % (jug1, jug2))\n",
        "    if jug2 is fill:\n",
        "        return\n",
        "    elif jug2 is max2:\n",
        "        pour(0, jug1)\n",
        "    elif jug1 != 0 and jug2 is 0:\n",
        "        pour(0, jug1)\n",
        "    elif jug1 is fill:\n",
        "        pour(jug1, 0)\n",
        "    elif jug1 < max1:\n",
        "        pour(max1, jug2)\n",
        "    elif jug1 < (max2-jug2):\n",
        "        pour(0, (jug1+jug2))\n",
        "    else:\n",
        "        pour(jug1-(max2-jug2), (max2-jug2)+jug2)\n",
        " \n",
        "print(\"JUG1\\tJUG2\")\n",
        "pour(0, 0)"
      ]
    }
  ]
}